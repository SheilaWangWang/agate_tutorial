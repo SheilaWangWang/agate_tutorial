{
 "cells": [
  {
   "cell_type": "code",
   "execution_count": 28,
   "metadata": {
    "collapsed": true
   },
   "outputs": [],
   "source": [
    "import agate"
   ]
  },
  {
   "cell_type": "code",
   "execution_count": 29,
   "metadata": {
    "collapsed": false
   },
   "outputs": [
    {
     "name": "stdout",
     "output_type": "stream",
     "text": [
      "|----------------------+---------------|\n",
      "|  column_names        | column_types  |\n",
      "|----------------------+---------------|\n",
      "|  last_name           | Text          |\n",
      "|  first_name          | Text          |\n",
      "|  age                 | Number        |\n",
      "|  race                | Text          |\n",
      "|  state               | Text          |\n",
      "|  tags                | Text          |\n",
      "|  crime               | Text          |\n",
      "|  sentence            | Text          |\n",
      "|  convicted           | Number        |\n",
      "|  exonerated          | Number        |\n",
      "|  dna                 | Boolean       |\n",
      "|  dna_essential       | Text          |\n",
      "|  mistake_witness     | Boolean       |\n",
      "|  false_confession    | Boolean       |\n",
      "|  perjury             | Boolean       |\n",
      "|  false_evidence      | Boolean       |\n",
      "|  official_misconduct | Boolean       |\n",
      "|  inadequate_defense  | Boolean       |\n",
      "|----------------------+---------------|\n",
      "\n"
     ]
    }
   ],
   "source": [
    "exonerations = agate.Table.from_csv('exonerations-20150828.csv')\n",
    "print exonerations"
   ]
  },
  {
   "cell_type": "code",
   "execution_count": 30,
   "metadata": {
    "collapsed": false
   },
   "outputs": [
    {
     "name": "stdout",
     "output_type": "stream",
     "text": [
      "<agate.Column: (u'Abbitt', u'Abdal', u'Abernathy', u'Acero', u'Adams', ...)>\n"
     ]
    }
   ],
   "source": [
    "print exonerations.columns[0]\n"
   ]
  },
  {
   "cell_type": "code",
   "execution_count": 31,
   "metadata": {
    "collapsed": false
   },
   "outputs": [
    {
     "name": "stdout",
     "output_type": "stream",
     "text": [
      "<agate.Row: (u'Abbitt', u'Joseph Lamont', Decimal('31'), u'Black', u'NC', ...)>\n"
     ]
    }
   ],
   "source": [
    "print exonerations.rows[0]"
   ]
  },
  {
   "cell_type": "code",
   "execution_count": 32,
   "metadata": {
    "collapsed": false
   },
   "outputs": [
    {
     "name": "stdout",
     "output_type": "stream",
     "text": [
      "211\n"
     ]
    }
   ],
   "source": [
    "num_false_confessions = exonerations.aggregate(agate.Count('false_confession', True))\n",
    "\n",
    "print(num_false_confessions)"
   ]
  },
  {
   "cell_type": "code",
   "execution_count": 33,
   "metadata": {
    "collapsed": false
   },
   "outputs": [
    {
     "name": "stdout",
     "output_type": "stream",
     "text": [
      "26\n"
     ]
    }
   ],
   "source": [
    "median_age = exonerations.aggregate(agate.Median('age'))\n",
    "\n",
    "print(median_age)"
   ]
  },
  {
   "cell_type": "code",
   "execution_count": 34,
   "metadata": {
    "collapsed": false
   },
   "outputs": [
    {
     "name": "stdout",
     "output_type": "stream",
     "text": [
      "9\n"
     ]
    }
   ],
   "source": [
    "num_without_age = exonerations.aggregate(agate.Count('age', None))\n",
    "\n",
    "print(num_without_age)"
   ]
  },
  {
   "cell_type": "code",
   "execution_count": 35,
   "metadata": {
    "collapsed": true
   },
   "outputs": [],
   "source": [
    "with_age = exonerations.where(lambda row: row['age'] is not None)"
   ]
  },
  {
   "cell_type": "code",
   "execution_count": 36,
   "metadata": {
    "collapsed": false
   },
   "outputs": [
    {
     "name": "stdout",
     "output_type": "stream",
     "text": [
      "8\n"
     ]
    }
   ],
   "source": [
    "with_years_in_prison = exonerations.compute([\n",
    "    ('years_in_prison', agate.Change('convicted', 'exonerated'))\n",
    "])\n",
    "\n",
    "median_years = with_years_in_prison.aggregate(agate.Median('years_in_prison'))\n",
    "\n",
    "print(median_years)"
   ]
  },
  {
   "cell_type": "code",
   "execution_count": 37,
   "metadata": {
    "collapsed": true
   },
   "outputs": [],
   "source": [
    "full_names = exonerations.compute([\n",
    "    ('full_name', agate.Formula(agate.Text(), lambda row: '%(first_name)s %(last_name)s' % row))\n",
    "])"
   ]
  },
  {
   "cell_type": "code",
   "execution_count": 38,
   "metadata": {
    "collapsed": true
   },
   "outputs": [],
   "source": [
    "sorted_by_age = exonerations.order_by('age')"
   ]
  },
  {
   "cell_type": "code",
   "execution_count": 39,
   "metadata": {
    "collapsed": true
   },
   "outputs": [],
   "source": [
    "youngest_ten = sorted_by_age.limit(10)"
   ]
  },
  {
   "cell_type": "code",
   "execution_count": 40,
   "metadata": {
    "collapsed": false
   },
   "outputs": [
    {
     "name": "stdout",
     "output_type": "stream",
     "text": [
      "|------------+------------+-----+-----------+-------+---------+---------+------|\n",
      "|  last_name | first_name | age | race      | state | tags    | crime   | ...  |\n",
      "|------------+------------+-----+-----------+-------+---------+---------+------|\n",
      "|  Murray    | Lacresha   |  11 | Black     | TX    | CV, F   | Murder  | ...  |\n",
      "|  Adams     | Johnathan  |  12 | Caucasian | GA    | CV, P   | Murder  | ...  |\n",
      "|  Harris    | Anthony    |  12 | Black     | OH    | CV      | Murder  | ...  |\n",
      "|  Edmonds   | Tyler      |  13 | Caucasian | MS    |         | Murder  | ...  |\n",
      "|  Handley   | Zachary    |  13 | Caucasian | PA    | A, CV   | Arson   | ...  |\n",
      "|  Jimenez   | Thaddeus   |  13 | Hispanic  | IL    |         | Murder  | ...  |\n",
      "|  Pacek     | Jerry      |  13 | Caucasian | PA    |         | Murder  | ...  |\n",
      "|  Barr      | Jonathan   |  14 | Black     | IL    | CDC, CV | Murder  | ...  |\n",
      "|  Brim      | Dominique  |  14 | Black     | MI    | F       | Assault | ...  |\n",
      "|  Brown     | Timothy    |  14 | Black     | FL    |         | Murder  | ...  |\n",
      "|------------+------------+-----+-----------+-------+---------+---------+------|\n"
     ]
    }
   ],
   "source": [
    "youngest_ten.print_table(max_columns=7)"
   ]
  },
  {
   "cell_type": "code",
   "execution_count": 41,
   "metadata": {
    "collapsed": false
   },
   "outputs": [
    {
     "name": "stdout",
     "output_type": "stream",
     "text": [
      "age       Count\n",
      "[10 - 20)   307 ▓░░░░░░░░░░░░░░░░░░░░░░░░                                       \n",
      "[20 - 30)   718 ▓░░░░░░░░░░░░░░░░░░░░░░░░░░░░░░░░░░░░░░░░░░░░░░░░░░░░░░░░░      \n",
      "[30 - 40)   377 ▓░░░░░░░░░░░░░░░░░░░░░░░░░░░░░░                                 \n",
      "[40 - 50)   176 ▓░░░░░░░░░░░░░░                                                 \n",
      "[50 - 60)    53 ▓░░░░                                                           \n",
      "[60 - 70)    10 ▓░                                                              \n",
      "[80 - 90)     1 ▓                                                               \n",
      "None          9 ▓░                                                              \n",
      "                +---------------+---------------+--------------+---------------+\n",
      "                0              200             400            600            800\n"
     ]
    }
   ],
   "source": [
    "binned_ages = exonerations.bins('age', 10, 0, 100)\n",
    "binned_ages.print_bars('age', 'Count', width=80)"
   ]
  }
 ],
 "metadata": {
  "kernelspec": {
   "display_name": "Python 2",
   "language": "python",
   "name": "python2"
  },
  "language_info": {
   "codemirror_mode": {
    "name": "ipython",
    "version": 2
   },
   "file_extension": ".py",
   "mimetype": "text/x-python",
   "name": "python",
   "nbconvert_exporter": "python",
   "pygments_lexer": "ipython2",
   "version": "2.7.10"
  }
 },
 "nbformat": 4,
 "nbformat_minor": 0
}
